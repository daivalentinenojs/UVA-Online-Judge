{
 "cells": [
  {
   "cell_type": "code",
   "execution_count": 1,
   "metadata": {},
   "outputs": [],
   "source": [
    "# Title           : Ugly Numbers\n",
    "# Created By      : Daivalentineno Janitra Salim\n",
    "# Created In      : Taiwan\n",
    "# Created On      : 28th September 2020 12:00 (GMT+8)\n",
    "# Last Updated By : -\n",
    "# Last Updated In : -\n",
    "# Last Updated On : -"
   ]
  },
  {
   "cell_type": "code",
   "execution_count": 2,
   "metadata": {},
   "outputs": [],
   "source": [
    "def ugly_numbers(ith):\n",
    "    \n",
    "    ugly_numbers = []\n",
    "    ugly_numbers.append(1)\n",
    "    a, b, c, n = 1, 1, 1, 1\n",
    "    \n",
    "    while (n <= ith):\n",
    "        x = 2 * ugly_numbers[a-1]\n",
    "        y = 3 * ugly_numbers[b-1]\n",
    "        z = 5 * ugly_numbers[c-1]        \n",
    "        ugly_numbers.append(min(x, min(y,z)))    \n",
    "\n",
    "        if ugly_numbers[n] == x:\n",
    "            a += 1\n",
    "        if ugly_numbers[n] == y:\n",
    "            b += 1\n",
    "        if ugly_numbers[n] == z:\n",
    "            c += 1\n",
    "        n += 1\n",
    "        \n",
    "    return ugly_numbers[ith-1]"
   ]
  },
  {
   "cell_type": "code",
   "execution_count": 3,
   "metadata": {},
   "outputs": [
    {
     "name": "stdout",
     "output_type": "stream",
     "text": [
      "The 1500 'th ugly number is 859963392\n"
     ]
    }
   ],
   "source": [
    "ith = 1500\n",
    "print(\"The\", ith,\"'th ugly number is\", ugly_numbers(ith))"
   ]
  }
 ],
 "metadata": {
  "kernelspec": {
   "display_name": "Python 3",
   "language": "python",
   "name": "python3"
  },
  "language_info": {
   "codemirror_mode": {
    "name": "ipython",
    "version": 3
   },
   "file_extension": ".py",
   "mimetype": "text/x-python",
   "name": "python",
   "nbconvert_exporter": "python",
   "pygments_lexer": "ipython3",
   "version": "3.7.3"
  }
 },
 "nbformat": 4,
 "nbformat_minor": 2
}
