{
 "cells": [
  {
   "cell_type": "code",
   "execution_count": 1,
   "metadata": {},
   "outputs": [],
   "source": [
    "# Title           : The 3n + 1 Problem\n",
    "# Created By      : Daivalentineno Janitra Salim\n",
    "# Created In      : Taiwan\n",
    "# Created On      : 27th September 2020 20:30 (GMT+8)\n",
    "# Last Updated By : -\n",
    "# Last Updated In : -\n",
    "# Last Updated On : -"
   ]
  },
  {
   "cell_type": "code",
   "execution_count": 2,
   "metadata": {},
   "outputs": [],
   "source": [
    "def calculate_cycle_length(start, end):\n",
    "    max_cycle_length = 0 \n",
    "    \n",
    "    if start > end:\n",
    "        start, end = end, start\n",
    "        \n",
    "    for i in range (start, end + 1):         \n",
    "        cycle_length = 1\n",
    "\n",
    "        while i > 1:             \n",
    "            if i % 2 == 1:\n",
    "                i = 3 * i + 1\n",
    "            else:\n",
    "                i = i / 2\n",
    "            cycle_length += 1\n",
    "\n",
    "        if max_cycle_length < cycle_length:\n",
    "            max_cycle_length = cycle_length\n",
    "    \n",
    "    return print(start, end, max_cycle_length)                "
   ]
  },
  {
   "cell_type": "code",
   "execution_count": 3,
   "metadata": {},
   "outputs": [
    {
     "name": "stdout",
     "output_type": "stream",
     "text": [
      "1 10 20\n",
      "100 200 125\n",
      "201 210 89\n",
      "900 1000 174\n"
     ]
    }
   ],
   "source": [
    "calculate_cycle_length(1, 10)\n",
    "calculate_cycle_length(100, 200)\n",
    "calculate_cycle_length(201, 210)\n",
    "calculate_cycle_length(900, 1000)"
   ]
  }
 ],
 "metadata": {
  "kernelspec": {
   "display_name": "Python 3",
   "language": "python",
   "name": "python3"
  },
  "language_info": {
   "codemirror_mode": {
    "name": "ipython",
    "version": 3
   },
   "file_extension": ".py",
   "mimetype": "text/x-python",
   "name": "python",
   "nbconvert_exporter": "python",
   "pygments_lexer": "ipython3",
   "version": "3.7.3"
  }
 },
 "nbformat": 4,
 "nbformat_minor": 2
}
