{
 "cells": [
  {
   "cell_type": "code",
   "execution_count": 1,
   "metadata": {},
   "outputs": [],
   "source": [
    "# Title           : Digit Counting\n",
    "# Created By      : Daivalentineno Janitra Salim\n",
    "# Created In      : Taiwan\n",
    "# Created On      : 4th October 2020 12:00 (GMT+8)\n",
    "# Last Updated By : -\n",
    "# Last Updated In : -\n",
    "# Last Updated On : -"
   ]
  },
  {
   "cell_type": "code",
   "execution_count": 2,
   "metadata": {},
   "outputs": [],
   "source": [
    "def digit_counting(input_cases):\n",
    "    \n",
    "    for i in range (len(input_cases)):\n",
    "        array_output = [0]*10\n",
    "\n",
    "        for j in range(1, input_cases[i] + 1):\n",
    "            m = str(j)\n",
    "            \n",
    "            for k in range(len(m)):\n",
    "                array_output[int(m[k])] += 1\n",
    "        \n",
    "        output_result = \"\"\n",
    "        for k in range(len(array_output)):\n",
    "            output_result += str(array_output[k]) + \" \"\n",
    "        print(output_result)"
   ]
  },
  {
   "cell_type": "code",
   "execution_count": 3,
   "metadata": {},
   "outputs": [
    {
     "name": "stdout",
     "output_type": "stream",
     "text": [
      "0 1 1 1 0 0 0 0 0 0 \n",
      "1 6 2 2 1 1 1 1 1 1 \n"
     ]
    }
   ],
   "source": [
    "input_cases = [3, 13]\n",
    "digit_counting(input_cases)"
   ]
  }
 ],
 "metadata": {
  "kernelspec": {
   "display_name": "Python 3",
   "language": "python",
   "name": "python3"
  },
  "language_info": {
   "codemirror_mode": {
    "name": "ipython",
    "version": 3
   },
   "file_extension": ".py",
   "mimetype": "text/x-python",
   "name": "python",
   "nbconvert_exporter": "python",
   "pygments_lexer": "ipython3",
   "version": "3.7.3"
  }
 },
 "nbformat": 4,
 "nbformat_minor": 2
}
