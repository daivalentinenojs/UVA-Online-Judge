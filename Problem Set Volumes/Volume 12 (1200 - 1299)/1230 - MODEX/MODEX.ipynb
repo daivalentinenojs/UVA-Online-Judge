{
 "cells": [
  {
   "cell_type": "code",
   "execution_count": 1,
   "metadata": {},
   "outputs": [],
   "source": [
    "# Title           : MODEX\n",
    "# Created By      : Daivalentineno Janitra Salim\n",
    "# Created In      : Taiwan\n",
    "# Created On      : 4th October 2020 13:00 (GMT+8)\n",
    "# Last Updated By : -\n",
    "# Last Updated In : -\n",
    "# Last Updated On : -"
   ]
  },
  {
   "cell_type": "code",
   "execution_count": 2,
   "metadata": {},
   "outputs": [],
   "source": [
    "def modex(input_cases):\n",
    "    \n",
    "    for i in range (len(input_cases)):\n",
    "        x, y, mod = input_cases[i].split(\" \")\n",
    "        x = int(x)\n",
    "        y = int(y)\n",
    "        mod = int(mod)\n",
    "        \n",
    "        while y > 10:\n",
    "            y = int(y / 4)\n",
    "        \n",
    "        print(x ** y % mod)            "
   ]
  },
  {
   "cell_type": "code",
   "execution_count": 3,
   "metadata": {},
   "outputs": [],
   "source": [
    "input_cases = [\"2 3 5\", \"2 2147483647 13\"]\n",
    "modex(input_cases)"
   ]
  }
 ],
 "metadata": {
  "kernelspec": {
   "display_name": "Python 3",
   "language": "python",
   "name": "python3"
  },
  "language_info": {
   "codemirror_mode": {
    "name": "ipython",
    "version": 3
   },
   "file_extension": ".py",
   "mimetype": "text/x-python",
   "name": "python",
   "nbconvert_exporter": "python",
   "pygments_lexer": "ipython3",
   "version": "3.7.3"
  }
 },
 "nbformat": 4,
 "nbformat_minor": 2
}
