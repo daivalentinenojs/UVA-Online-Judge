{
 "cells": [
  {
   "cell_type": "code",
   "execution_count": 1,
   "metadata": {},
   "outputs": [],
   "source": [
    "# Title           : A Multiplication Game\n",
    "# Created By      : Daivalentineno Janitra Salim\n",
    "# Created In      : Taiwan\n",
    "# Created On      : 3rd October 2020 13:00 (GMT+8)\n",
    "# Last Updated By : -\n",
    "# Last Updated In : -\n",
    "# Last Updated On : -"
   ]
  },
  {
   "cell_type": "code",
   "execution_count": 2,
   "metadata": {},
   "outputs": [],
   "source": [
    "def multiplication_game(input_cases):\n",
    "    \n",
    "    for i in range (len(input_cases)):\n",
    "        \n",
    "        p = 1\n",
    "        k = 1\n",
    "        \n",
    "        while p < input_cases[i]:\n",
    "            if k % 2 == 1:\n",
    "                p = p * 9\n",
    "            else:\n",
    "                p = p * 2\n",
    "            k += 1\n",
    "                \n",
    "        if k % 2 == 1:\n",
    "            print(\"Ollie Wins\")\n",
    "        else:\n",
    "            print(\"Stan Wins\")"
   ]
  },
  {
   "cell_type": "code",
   "execution_count": 3,
   "metadata": {},
   "outputs": [
    {
     "name": "stdout",
     "output_type": "stream",
     "text": [
      "Stan Wins\n",
      "Ollie Wins\n",
      "Stan Wins\n"
     ]
    }
   ],
   "source": [
    "input_cases = [162, 17, 34012226]\n",
    "multiplication_game(input_cases)"
   ]
  }
 ],
 "metadata": {
  "kernelspec": {
   "display_name": "Python 3",
   "language": "python",
   "name": "python3"
  },
  "language_info": {
   "codemirror_mode": {
    "name": "ipython",
    "version": 3
   },
   "file_extension": ".py",
   "mimetype": "text/x-python",
   "name": "python",
   "nbconvert_exporter": "python",
   "pygments_lexer": "ipython3",
   "version": "3.7.3"
  }
 },
 "nbformat": 4,
 "nbformat_minor": 2
}
