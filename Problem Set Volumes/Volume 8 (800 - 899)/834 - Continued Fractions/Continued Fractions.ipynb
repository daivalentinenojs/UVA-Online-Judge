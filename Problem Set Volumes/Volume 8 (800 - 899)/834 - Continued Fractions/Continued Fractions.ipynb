{
 "cells": [
  {
   "cell_type": "code",
   "execution_count": 1,
   "metadata": {},
   "outputs": [],
   "source": [
    "# Title           : Continued Fractions\n",
    "# Created By      : Daivalentineno Janitra Salim\n",
    "# Created In      : Taiwan\n",
    "# Created On      : 3rd October 2020 12:00 (GMT+8)\n",
    "# Last Updated By : -\n",
    "# Last Updated In : -\n",
    "# Last Updated On : -"
   ]
  },
  {
   "cell_type": "code",
   "execution_count": 2,
   "metadata": {},
   "outputs": [],
   "source": [
    "def continued_fractions(numerator_denominator):\n",
    "    \n",
    "    for i in range (len(numerator_denominator)):\n",
    "               \n",
    "        numerator, denominator = numerator_denominator[i].split(\" \")\n",
    "        numerator = int(numerator)\n",
    "        denominator = int(denominator)\n",
    "        \n",
    "        r = int(numerator / denominator)\n",
    "        numerator, denominator = denominator, numerator - (denominator * r)\n",
    "\n",
    "        output = \"[\" + str(r) + \" ; \"\n",
    "        \n",
    "        while numerator > 1:\n",
    "            r = int(numerator / denominator)\n",
    "            temp = numerator\n",
    "            numerator = denominator\n",
    "            denominator = temp - (denominator * r)\n",
    "            \n",
    "            if numerator > 1:\n",
    "                output += str(r) + \" , \"\n",
    "            else:\n",
    "                output += str(r)\n",
    "\n",
    "        output += \"]\"\n",
    "        \n",
    "        print(output)"
   ]
  },
  {
   "cell_type": "code",
   "execution_count": 3,
   "metadata": {},
   "outputs": [
    {
     "name": "stdout",
     "output_type": "stream",
     "text": [
      "[2 ; 3 , 1 , 4]\n",
      "[0 ; 2]\n"
     ]
    }
   ],
   "source": [
    "numerator_denominator = [\"43 19\", \"1 2\"]\n",
    "continued_fractions(numerator_denominator)"
   ]
  }
 ],
 "metadata": {
  "kernelspec": {
   "display_name": "Python 3",
   "language": "python",
   "name": "python3"
  },
  "language_info": {
   "codemirror_mode": {
    "name": "ipython",
    "version": 3
   },
   "file_extension": ".py",
   "mimetype": "text/x-python",
   "name": "python",
   "nbconvert_exporter": "python",
   "pygments_lexer": "ipython3",
   "version": "3.7.3"
  }
 },
 "nbformat": 4,
 "nbformat_minor": 2
}
