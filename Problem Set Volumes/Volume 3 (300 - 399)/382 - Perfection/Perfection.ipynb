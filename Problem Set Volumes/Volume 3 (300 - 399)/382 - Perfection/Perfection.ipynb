{
 "cells": [
  {
   "cell_type": "code",
   "execution_count": 1,
   "metadata": {},
   "outputs": [],
   "source": [
    "# Title           : Perfection\n",
    "# Created By      : Daivalentineno Janitra Salim\n",
    "# Created In      : Taiwan\n",
    "# Created On      : 29th September 2020 10:00 (GMT+8)\n",
    "# Last Updated By : -\n",
    "# Last Updated In : -\n",
    "# Last Updated On : -"
   ]
  },
  {
   "cell_type": "code",
   "execution_count": 2,
   "metadata": {},
   "outputs": [],
   "source": [
    "def perfection(array_of_number):\n",
    "    print(\"Perfection Output\")\n",
    "    for i in range (len(array_of_number)):\n",
    "        sum = 1\n",
    "        \n",
    "        for j in range(2, array_of_number[i]):\n",
    "            if array_of_number[i] % j == 0:\n",
    "                sum += j\n",
    "                \n",
    "        if sum < array_of_number[i]:\n",
    "            result = \"Deficient\"\n",
    "        elif sum == array_of_number[i]:\n",
    "            result = \"Perfect\"\n",
    "        else:\n",
    "            result = \"Abundant\"\n",
    "        \n",
    "        print(array_of_number[i], \"\\t\", result)\n",
    "        \n",
    "    print(\"End Of Output\")"
   ]
  },
  {
   "cell_type": "code",
   "execution_count": 3,
   "metadata": {},
   "outputs": [
    {
     "name": "stdout",
     "output_type": "stream",
     "text": [
      "Perfection Output\n",
      "15 \t Deficient\n",
      "28 \t Perfect\n",
      "6 \t Perfect\n",
      "56 \t Abundant\n",
      "60000 \t Abundant\n",
      "22 \t Deficient\n",
      "496 \t Perfect\n",
      "End Of Output\n"
     ]
    }
   ],
   "source": [
    "array_of_number = [15, 28, 6, 56, 60000, 22, 496]\n",
    "perfection(array_of_number)"
   ]
  }
 ],
 "metadata": {
  "kernelspec": {
   "display_name": "Python 3",
   "language": "python",
   "name": "python3"
  },
  "language_info": {
   "codemirror_mode": {
    "name": "ipython",
    "version": 3
   },
   "file_extension": ".py",
   "mimetype": "text/x-python",
   "name": "python",
   "nbconvert_exporter": "python",
   "pygments_lexer": "ipython3",
   "version": "3.7.3"
  }
 },
 "nbformat": 4,
 "nbformat_minor": 2
}
