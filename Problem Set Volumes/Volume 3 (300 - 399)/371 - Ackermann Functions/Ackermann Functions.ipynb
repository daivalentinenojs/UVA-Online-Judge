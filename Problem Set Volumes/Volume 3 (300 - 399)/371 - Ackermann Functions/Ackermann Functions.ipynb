{
 "cells": [
  {
   "cell_type": "code",
   "execution_count": 1,
   "metadata": {},
   "outputs": [],
   "source": [
    "# Title           : Ackermann Functions\n",
    "# Created By      : Daivalentineno Janitra Salim\n",
    "# Created In      : Taiwan\n",
    "# Created On      : 29th September 2020 08:00 (GMT+8)\n",
    "# Last Updated By : -\n",
    "# Last Updated In : -\n",
    "# Last Updated On : -"
   ]
  },
  {
   "cell_type": "code",
   "execution_count": 7,
   "metadata": {},
   "outputs": [],
   "source": [
    "def ackermann_function(start, end):\n",
    "    max_length = 0\n",
    "    the_longest_value = 0\n",
    "    \n",
    "    for i in range (start, end+1):\n",
    "        current_length = 0\n",
    "        current_longest_value = i\n",
    "        \n",
    "        while i != 1:\n",
    "            if i % 2 == 0:\n",
    "                i = i / 2\n",
    "            else:\n",
    "                i = 3 * i + 1\n",
    "            current_length += 1\n",
    "        \n",
    "        if max_length < current_length:\n",
    "            the_longest_value = current_longest_value\n",
    "            max_length = current_length\n",
    "             \n",
    "    print(\"Between\", start, \"and\", end, \",\", the_longest_value, \"generates the longest sequence of\", max_length, \"values\")"
   ]
  },
  {
   "cell_type": "code",
   "execution_count": 8,
   "metadata": {},
   "outputs": [
    {
     "name": "stdout",
     "output_type": "stream",
     "text": [
      "Between 1 and 20 , 18 generates the longest sequence of 20 values\n",
      "Between 35 and 55 , 54 generates the longest sequence of 112 values\n"
     ]
    }
   ],
   "source": [
    "ackermann_function(1, 20)\n",
    "ackermann_function(35, 55)"
   ]
  },
  {
   "cell_type": "code",
   "execution_count": null,
   "metadata": {},
   "outputs": [],
   "source": []
  }
 ],
 "metadata": {
  "kernelspec": {
   "display_name": "Python 3",
   "language": "python",
   "name": "python3"
  },
  "language_info": {
   "codemirror_mode": {
    "name": "ipython",
    "version": 3
   },
   "file_extension": ".py",
   "mimetype": "text/x-python",
   "name": "python",
   "nbconvert_exporter": "python",
   "pygments_lexer": "ipython3",
   "version": "3.7.3"
  }
 },
 "nbformat": 4,
 "nbformat_minor": 2
}
