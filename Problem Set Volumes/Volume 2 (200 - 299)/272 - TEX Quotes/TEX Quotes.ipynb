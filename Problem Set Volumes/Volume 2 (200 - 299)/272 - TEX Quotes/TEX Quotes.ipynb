{
 "cells": [
  {
   "cell_type": "code",
   "execution_count": 1,
   "metadata": {},
   "outputs": [],
   "source": [
    "# Title           : TEX Quotes\n",
    "# Created By      : Daivalentineno Janitra Salim\n",
    "# Created In      : Taiwan\n",
    "# Created On      : 28th September 2020 12:30 (GMT+8)\n",
    "# Last Updated By : -\n",
    "# Last Updated In : -\n",
    "# Last Updated On : -"
   ]
  },
  {
   "cell_type": "code",
   "execution_count": 2,
   "metadata": {},
   "outputs": [],
   "source": [
    "def tex_quotes(input_string):\n",
    "    count = 0\n",
    "    new_string = \"\"\n",
    "    total_quote = input_string.count('\"')\n",
    "    \n",
    "    if total_quote >= 2:\n",
    "        i = 0\n",
    "        while i < len(input_string):\n",
    "            if input_string[i] == '\"':               \n",
    "                if count % 2 == 0:\n",
    "                    new_string += '``'\n",
    "                else:\n",
    "                    new_string += input_string[i]\n",
    "                count += 1\n",
    "            else:\n",
    "                new_string += input_string[i]\n",
    "            i += 1        \n",
    "        return new_string\n",
    "    else:\n",
    "        return input_string"
   ]
  },
  {
   "cell_type": "code",
   "execution_count": 3,
   "metadata": {},
   "outputs": [
    {
     "name": "stdout",
     "output_type": "stream",
     "text": [
      "``To be or not to be,\" quoth the Bard, ``that is the question.\"\n",
      "The programming contestant replied: ``I must disagree.\"\n",
      "To `C' or not to `C', that is The Question!.\"\n"
     ]
    }
   ],
   "source": [
    "print(tex_quotes('\"To be or not to be,\" quoth the Bard, \"that is the question.\"'))\n",
    "print(tex_quotes('The programming contestant replied: \"I must disagree.\"'))\n",
    "print(tex_quotes('To `C\\' or not to `C\\', that is The Question!.\"'))"
   ]
  }
 ],
 "metadata": {
  "kernelspec": {
   "display_name": "Python 3",
   "language": "python",
   "name": "python3"
  },
  "language_info": {
   "codemirror_mode": {
    "name": "ipython",
    "version": 3
   },
   "file_extension": ".py",
   "mimetype": "text/x-python",
   "name": "python",
   "nbconvert_exporter": "python",
   "pygments_lexer": "ipython3",
   "version": "3.7.3"
  }
 },
 "nbformat": 4,
 "nbformat_minor": 2
}
