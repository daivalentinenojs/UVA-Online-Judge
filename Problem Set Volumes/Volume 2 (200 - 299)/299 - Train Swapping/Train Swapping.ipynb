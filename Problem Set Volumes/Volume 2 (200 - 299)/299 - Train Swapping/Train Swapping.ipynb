{
 "cells": [
  {
   "cell_type": "code",
   "execution_count": 1,
   "metadata": {},
   "outputs": [],
   "source": [
    "# Title           : Train Swapping\n",
    "# Created By      : Daivalentineno Janitra Salim\n",
    "# Created In      : Taiwan\n",
    "# Created On      : 28th September 2020 20:00 (GMT+8)\n",
    "# Last Updated By : -\n",
    "# Last Updated In : -\n",
    "# Last Updated On : -"
   ]
  },
  {
   "cell_type": "code",
   "execution_count": 2,
   "metadata": {},
   "outputs": [],
   "source": [
    "def insertion_sort(array_of_number):\n",
    "    count = 0\n",
    "    for i in range(1, len(array_of_number)):\n",
    "        current_number = array_of_number[i]\n",
    "        for j in range(i-1, -1, -1):\n",
    "            if array_of_number[j] > current_number:               \n",
    "                array_of_number[j+1], array_of_number[j] = array_of_number[j], array_of_number[j+1]\n",
    "                count += 1\n",
    "            else:\n",
    "                break\n",
    "    return count"
   ]
  },
  {
   "cell_type": "code",
   "execution_count": 3,
   "metadata": {},
   "outputs": [],
   "source": [
    "def train_swapping(permutation_train):\n",
    "    count = insertion_sort(permutation_train)     \n",
    "    print(\"Optimal train swapping takes\", count, \"swaps\")"
   ]
  },
  {
   "cell_type": "code",
   "execution_count": 4,
   "metadata": {},
   "outputs": [
    {
     "name": "stdout",
     "output_type": "stream",
     "text": [
      "Optimal train swapping takes 1 swaps\n",
      "Optimal train swapping takes 6 swaps\n",
      "Optimal train swapping takes 1 swaps\n"
     ]
    }
   ],
   "source": [
    "permutation_train_1 = [1, 3, 2]\n",
    "permutation_train_2 = [4, 3, 2, 1]\n",
    "permutation_train_3 = [2, 1]\n",
    "\n",
    "train_swapping(permutation_train_1)\n",
    "train_swapping(permutation_train_2)\n",
    "train_swapping(permutation_train_3)"
   ]
  }
 ],
 "metadata": {
  "kernelspec": {
   "display_name": "Python 3",
   "language": "python",
   "name": "python3"
  },
  "language_info": {
   "codemirror_mode": {
    "name": "ipython",
    "version": 3
   },
   "file_extension": ".py",
   "mimetype": "text/x-python",
   "name": "python",
   "nbconvert_exporter": "python",
   "pygments_lexer": "ipython3",
   "version": "3.7.3"
  }
 },
 "nbformat": 4,
 "nbformat_minor": 2
}
