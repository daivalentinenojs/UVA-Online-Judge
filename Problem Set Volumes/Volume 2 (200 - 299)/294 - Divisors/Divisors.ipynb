{
 "cells": [
  {
   "cell_type": "code",
   "execution_count": 1,
   "metadata": {},
   "outputs": [],
   "source": [
    "# Title           : Divisors\n",
    "# Created By      : Daivalentineno Janitra Salim\n",
    "# Created In      : Taiwan\n",
    "# Created On      : 28th September 2020 14:00 (GMT+8)\n",
    "# Last Updated By : -\n",
    "# Last Updated In : -\n",
    "# Last Updated On : -"
   ]
  },
  {
   "cell_type": "code",
   "execution_count": 2,
   "metadata": {},
   "outputs": [],
   "source": [
    "import math"
   ]
  },
  {
   "cell_type": "code",
   "execution_count": 3,
   "metadata": {},
   "outputs": [],
   "source": [
    "def count_divisor(input_value):\n",
    "    count = 1\n",
    "    sqrt = int(math.sqrt(input_value))\n",
    "\n",
    "    for i in range (2, sqrt + 1):\n",
    "        pow = 0;\n",
    "\n",
    "        while (input_value % i == 0):\n",
    "            pow += 1\n",
    "            input_value /= i\n",
    "\n",
    "        if (pow != 0):\n",
    "            count *= pow + 1\n",
    "            sqrt = int(math.sqrt(input_value))\n",
    "\n",
    "        if i == 2:\n",
    "            i = 3\n",
    "        else:\n",
    "            i += 2 \n",
    "\n",
    "    if input_value != 1:\n",
    "        count *= 1 + 1;   \n",
    "    return count"
   ]
  },
  {
   "cell_type": "code",
   "execution_count": 4,
   "metadata": {},
   "outputs": [],
   "source": [
    "def divisors(start, end):\n",
    "    input_start = start\n",
    "    max_divisor_count = 0\n",
    "    max_number = 0\n",
    "        \n",
    "    for i in range (start, end + 1): \n",
    "        current_divisor_count = count_divisor(i)\n",
    "        if (current_divisor_count > max_divisor_count):\n",
    "            max_divisor_count = current_divisor_count\n",
    "            max_number = i        \n",
    "        start += 1        \n",
    "    print(\"Between\", input_start, \"and\", end, \",\", max_number, \"has a maximum of\", max_divisor_count, \"divisors\")"
   ]
  },
  {
   "cell_type": "code",
   "execution_count": 5,
   "metadata": {},
   "outputs": [
    {
     "name": "stdout",
     "output_type": "stream",
     "text": [
      "Between 1 and 10 , 6 has a maximum of 4 divisors\n",
      "Between 1000 and 1000 , 1000 has a maximum of 16 divisors\n",
      "Between 999999900 and 1000000000 , 999999924 has a maximum of 192 divisors\n"
     ]
    }
   ],
   "source": [
    "divisors(1, 10)\n",
    "divisors(1000, 1000)\n",
    "divisors(999999900, 1000000000)"
   ]
  }
 ],
 "metadata": {
  "kernelspec": {
   "display_name": "Python 3",
   "language": "python",
   "name": "python3"
  },
  "language_info": {
   "codemirror_mode": {
    "name": "ipython",
    "version": 3
   },
   "file_extension": ".py",
   "mimetype": "text/x-python",
   "name": "python",
   "nbconvert_exporter": "python",
   "pygments_lexer": "ipython3",
   "version": "3.7.3"
  }
 },
 "nbformat": 4,
 "nbformat_minor": 2
}
