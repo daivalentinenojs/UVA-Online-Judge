{
 "cells": [
  {
   "cell_type": "code",
   "execution_count": 1,
   "metadata": {},
   "outputs": [],
   "source": [
    "# Title           : Parentheses Balance\n",
    "# Created By      : Daivalentineno Janitra Salim\n",
    "# Created In      : Taiwan\n",
    "# Created On      : 2nd October 2020 11:00 (GMT+8)\n",
    "# Last Updated By : -\n",
    "# Last Updated In : -\n",
    "# Last Updated On : -"
   ]
  },
  {
   "cell_type": "code",
   "execution_count": 2,
   "metadata": {},
   "outputs": [],
   "source": [
    "def parentheses_balance(input_parentheses):\n",
    "    \n",
    "    for i in range (len(input_parentheses)):\n",
    "        \n",
    "        stack = []\n",
    "        stack_rest = []\n",
    "        current_length = len(str(input_parentheses[i]))\n",
    "        current_parentheses = input_parentheses[i]\n",
    "        \n",
    "        if current_length == 0:\n",
    "            print(\"Yes\")\n",
    "        else:\n",
    "            for j in range(current_length):\n",
    "                if current_parentheses[j] == \"(\" or current_parentheses[j] == \"[\":\n",
    "                    stack.append(current_parentheses[j])\n",
    "                elif len(stack) != 0 and ((stack[len(stack) - 1] == \"(\" and current_parentheses[j] == \")\") or (stack[len(stack) - 1] == \"[\" and current_parentheses[j] == \"]\")):\n",
    "                    stack.pop()\n",
    "                else:\n",
    "                    stack_rest.append(current_parentheses[j])\n",
    "                    \n",
    "            if len(stack) == 0 and len(stack_rest) == 0 and current_length == j + 1:\n",
    "                print(\"Yes\")\n",
    "            else:\n",
    "                print(\"No\")"
   ]
  },
  {
   "cell_type": "code",
   "execution_count": 3,
   "metadata": {},
   "outputs": [
    {
     "name": "stdout",
     "output_type": "stream",
     "text": [
      "Yes\n",
      "No\n",
      "Yes\n"
     ]
    }
   ],
   "source": [
    "input_parentheses = [\"([])\", \"(([()])))\", \"([()[]()])()\"]\n",
    "parentheses_balance(input_parentheses)"
   ]
  }
 ],
 "metadata": {
  "kernelspec": {
   "display_name": "Python 3",
   "language": "python",
   "name": "python3"
  },
  "language_info": {
   "codemirror_mode": {
    "name": "ipython",
    "version": 3
   },
   "file_extension": ".py",
   "mimetype": "text/x-python",
   "name": "python",
   "nbconvert_exporter": "python",
   "pygments_lexer": "ipython3",
   "version": "3.7.3"
  }
 },
 "nbformat": 4,
 "nbformat_minor": 2
}
