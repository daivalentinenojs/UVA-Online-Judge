{
 "cells": [
  {
   "cell_type": "code",
   "execution_count": 1,
   "metadata": {},
   "outputs": [],
   "source": [
    "# Title           : Secret Research\n",
    "# Created By      : Daivalentineno Janitra Salim\n",
    "# Created In      : Taiwan\n",
    "# Created On      : 2nd October 2020 10:00 (GMT+8)\n",
    "# Last Updated By : -\n",
    "# Last Updated In : -\n",
    "# Last Updated On : -"
   ]
  },
  {
   "cell_type": "code",
   "execution_count": 2,
   "metadata": {},
   "outputs": [],
   "source": [
    "def secret_research(encrypted_result):\n",
    "    \n",
    "    for i in range (len(encrypted_result)):\n",
    "        \n",
    "        length = len(str(encrypted_result[i]))\n",
    "        string_result = str(encrypted_result[i])\n",
    "        \n",
    "        if encrypted_result[i] == 1 or encrypted_result[i] == 4 or encrypted_result[i] == 78:\n",
    "            print(\"+\")\n",
    "        elif string_result[length - 1] == \"5\" and string_result[length - 2] == \"3\":\n",
    "            print(\"-\")\n",
    "        elif string_result[0] == \"9\" and string_result[length - 1] == \"4\":\n",
    "            print(\"*\")\n",
    "        elif string_result[0] == \"1\" and string_result[1] == \"9\" and string_result[2] == \"0\":\n",
    "            print(\"?\")\n",
    "        else:\n",
    "            print(\"Wrong input\")"
   ]
  },
  {
   "cell_type": "code",
   "execution_count": 3,
   "metadata": {},
   "outputs": [
    {
     "name": "stdout",
     "output_type": "stream",
     "text": [
      "+\n",
      "-\n",
      "?\n",
      "*\n"
     ]
    }
   ],
   "source": [
    "encrypted_result = [78, 7835, 19078, 944]\n",
    "secret_research(encrypted_result)"
   ]
  }
 ],
 "metadata": {
  "kernelspec": {
   "display_name": "Python 3",
   "language": "python",
   "name": "python3"
  },
  "language_info": {
   "codemirror_mode": {
    "name": "ipython",
    "version": 3
   },
   "file_extension": ".py",
   "mimetype": "text/x-python",
   "name": "python",
   "nbconvert_exporter": "python",
   "pygments_lexer": "ipython3",
   "version": "3.7.3"
  }
 },
 "nbformat": 4,
 "nbformat_minor": 2
}
