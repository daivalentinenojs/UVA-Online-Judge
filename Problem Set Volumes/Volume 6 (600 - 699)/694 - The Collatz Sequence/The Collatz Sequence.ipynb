{
 "cells": [
  {
   "cell_type": "code",
   "execution_count": 1,
   "metadata": {},
   "outputs": [],
   "source": [
    "# Title           : The Collatz Sequence\n",
    "# Created By      : Daivalentineno Janitra Salim\n",
    "# Created In      : Taiwan\n",
    "# Created On      : 3rd October 2020 10:00 (GMT+8)\n",
    "# Last Updated By : -\n",
    "# Last Updated In : -\n",
    "# Last Updated On : -"
   ]
  },
  {
   "cell_type": "code",
   "execution_count": 2,
   "metadata": {},
   "outputs": [],
   "source": [
    "def collatz_sequence(input_cases):\n",
    "    \n",
    "    for i in range (len(input_cases)):\n",
    "        \n",
    "        initial_value, limit_value = input_cases[i].split(\" \")\n",
    "        init_value = int(initial_value)\n",
    "        initial_value = int(initial_value)\n",
    "        limit_value = int(limit_value)\n",
    "        count = 0\n",
    "        \n",
    "        while initial_value != 1:\n",
    "            if initial_value % 2 == 0:\n",
    "                initial_value = initial_value / 2\n",
    "            else:\n",
    "                initial_value = 3 * initial_value + 1\n",
    "            count += 1\n",
    "            \n",
    "            if initial_value > limit_value:\n",
    "                break\n",
    "            \n",
    "        if initial_value == 1:\n",
    "            count += 1\n",
    "        \n",
    "        print(\"Case\", (i+1), \": A =\\t\", int(init_value), \"\\t, limit =\\t\", int(limit_value), \"\\t, number of terms =\\t\", count)"
   ]
  },
  {
   "cell_type": "code",
   "execution_count": 3,
   "metadata": {},
   "outputs": [
    {
     "name": "stdout",
     "output_type": "stream",
     "text": [
      "Case 1 : A =\t 3 \t, limit =\t 100 \t, number of terms =\t 8\n",
      "Case 2 : A =\t 34 \t, limit =\t 100 \t, number of terms =\t 14\n",
      "Case 3 : A =\t 75 \t, limit =\t 250 \t, number of terms =\t 3\n",
      "Case 4 : A =\t 27 \t, limit =\t 2147483647 \t, number of terms =\t 112\n",
      "Case 5 : A =\t 101 \t, limit =\t 304 \t, number of terms =\t 26\n",
      "Case 6 : A =\t 101 \t, limit =\t 303 \t, number of terms =\t 1\n"
     ]
    }
   ],
   "source": [
    "input_cases = [\"3 100\", \"34 100\", \"75 250\", \"27 2147483647\", \"101 304\", \"101 303\"]\n",
    "collatz_sequence(input_cases)"
   ]
  }
 ],
 "metadata": {
  "kernelspec": {
   "display_name": "Python 3",
   "language": "python",
   "name": "python3"
  },
  "language_info": {
   "codemirror_mode": {
    "name": "ipython",
    "version": 3
   },
   "file_extension": ".py",
   "mimetype": "text/x-python",
   "name": "python",
   "nbconvert_exporter": "python",
   "pygments_lexer": "ipython3",
   "version": "3.7.3"
  }
 },
 "nbformat": 4,
 "nbformat_minor": 2
}
