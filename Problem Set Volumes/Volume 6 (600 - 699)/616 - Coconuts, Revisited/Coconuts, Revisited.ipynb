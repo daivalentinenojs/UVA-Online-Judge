{
 "cells": [
  {
   "cell_type": "code",
   "execution_count": 1,
   "metadata": {},
   "outputs": [],
   "source": [
    "# Title           : Coconuts, Revisited\n",
    "# Created By      : Daivalentineno Janitra Salim\n",
    "# Created In      : Taiwan\n",
    "# Created On      : 2nd October 2020 09:00 (GMT+8)\n",
    "# Last Updated By : -\n",
    "# Last Updated In : -\n",
    "# Last Updated On : -"
   ]
  },
  {
   "cell_type": "code",
   "execution_count": 2,
   "metadata": {},
   "outputs": [],
   "source": [
    "import math"
   ]
  },
  {
   "cell_type": "code",
   "execution_count": 3,
   "metadata": {},
   "outputs": [],
   "source": [
    "def coconuts_revisited(number_of_coconut):\n",
    "    \n",
    "    for i in range (len(number_of_coconut)):\n",
    "        \n",
    "        total_person = 1\n",
    "        threshold = int(math.sqrt(number_of_coconut[i])) + 1\n",
    "        \n",
    "        for j in range (2, threshold + 1):\n",
    "            count = 0j\n",
    "            n = number_of_coconut[i]\n",
    "            \n",
    "            for k in range (1, j + 1):\n",
    "                if (n - 1) % j == 0:\n",
    "                    n = n - 1\n",
    "                    get = n / j\n",
    "                    n = n - get\n",
    "                    count += 1\n",
    "                else:\n",
    "                    break\n",
    "            \n",
    "            if n % j == 0 and total_person < j and j == count:\n",
    "                total_person = j\n",
    "                \n",
    "        if total_person == 1:\n",
    "            print(number_of_coconut[i], \"coconuts, no solution\")\n",
    "        else:\n",
    "            print(number_of_coconut[i], \"coconuts,\", total_person, \"people and 1 monkey\")"
   ]
  },
  {
   "cell_type": "code",
   "execution_count": 4,
   "metadata": {},
   "outputs": [
    {
     "name": "stdout",
     "output_type": "stream",
     "text": [
      "25 coconuts, 3 people and 1 monkey\n",
      "30 coconuts, no solution\n",
      "3121 coconuts, 5 people and 1 monkey\n"
     ]
    }
   ],
   "source": [
    "number_of_coconut = [25, 30, 3121]\n",
    "coconuts_revisited(number_of_coconut)"
   ]
  }
 ],
 "metadata": {
  "kernelspec": {
   "display_name": "Python 3",
   "language": "python",
   "name": "python3"
  },
  "language_info": {
   "codemirror_mode": {
    "name": "ipython",
    "version": 3
   },
   "file_extension": ".py",
   "mimetype": "text/x-python",
   "name": "python",
   "nbconvert_exporter": "python",
   "pygments_lexer": "ipython3",
   "version": "3.7.3"
  }
 },
 "nbformat": 4,
 "nbformat_minor": 2
}
