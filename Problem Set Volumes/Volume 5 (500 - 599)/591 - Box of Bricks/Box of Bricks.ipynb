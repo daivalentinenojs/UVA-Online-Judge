{
 "cells": [
  {
   "cell_type": "code",
   "execution_count": 1,
   "metadata": {},
   "outputs": [],
   "source": [
    "# Title           : Box Of Bricks\n",
    "# Created By      : Daivalentineno Janitra Salim\n",
    "# Created In      : Taiwan\n",
    "# Created On      : 2nd October 2020 09:00 (GMT+8)\n",
    "# Last Updated By : -\n",
    "# Last Updated In : -\n",
    "# Last Updated On : -"
   ]
  },
  {
   "cell_type": "code",
   "execution_count": 2,
   "metadata": {},
   "outputs": [],
   "source": [
    "def box_of_bricks(input_bricks):\n",
    "    \n",
    "    for i in range (len(input_bricks)):\n",
    "        \n",
    "        k = 1\n",
    "        total = 0\n",
    "        result = 0\n",
    "        array_bricks = input_bricks.split(\" \")\n",
    "        \n",
    "        for i in range (len(array_bricks)):\n",
    "            total += int(array_bricks[i])\n",
    "         \n",
    "        average = int(total / len(array_bricks))\n",
    "        \n",
    "        for i in range (1, len(array_bricks) + 1):\n",
    "            if int(array_bricks[i - 1]) > average:\n",
    "                result += int(array_bricks[i - 1]) - average\n",
    "                    \n",
    "    print(\"Set #\", k);\n",
    "    print(\"The minimum number of moves is\", result)"
   ]
  },
  {
   "cell_type": "code",
   "execution_count": 3,
   "metadata": {},
   "outputs": [
    {
     "name": "stdout",
     "output_type": "stream",
     "text": [
      "Set # 1\n",
      "The minimum number of moves is 5\n"
     ]
    }
   ],
   "source": [
    "input_bricks = \"5 2 4 1 7 5\"\n",
    "box_of_bricks(input_bricks)"
   ]
  }
 ],
 "metadata": {
  "kernelspec": {
   "display_name": "Python 3",
   "language": "python",
   "name": "python3"
  },
  "language_info": {
   "codemirror_mode": {
    "name": "ipython",
    "version": 3
   },
   "file_extension": ".py",
   "mimetype": "text/x-python",
   "name": "python",
   "nbconvert_exporter": "python",
   "pygments_lexer": "ipython3",
   "version": "3.7.3"
  }
 },
 "nbformat": 4,
 "nbformat_minor": 2
}
