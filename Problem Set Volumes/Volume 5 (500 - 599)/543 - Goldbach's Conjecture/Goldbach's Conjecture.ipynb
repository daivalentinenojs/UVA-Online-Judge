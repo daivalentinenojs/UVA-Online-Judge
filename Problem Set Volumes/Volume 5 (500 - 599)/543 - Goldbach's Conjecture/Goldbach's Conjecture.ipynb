{
 "cells": [
  {
   "cell_type": "code",
   "execution_count": 1,
   "metadata": {},
   "outputs": [],
   "source": [
    "# Title           : Goldbach's Conjecture\n",
    "# Created By      : Daivalentineno Janitra Salim\n",
    "# Created In      : Taiwan\n",
    "# Created On      : 1st October 2020 16:00 (GMT+8)\n",
    "# Last Updated By : -\n",
    "# Last Updated In : -\n",
    "# Last Updated On : -"
   ]
  },
  {
   "cell_type": "code",
   "execution_count": 2,
   "metadata": {},
   "outputs": [],
   "source": [
    "def generate_prime(input_number):\n",
    "    prime = []\n",
    "    for i in range (2, input_number+1):\n",
    "        count_prime = 0\n",
    "        for j in range (1, i+1):\n",
    "            if i % j == 0:\n",
    "                count_prime += 1\n",
    "        if count_prime == 2:\n",
    "            prime.append(i)\n",
    "    return prime"
   ]
  },
  {
   "cell_type": "code",
   "execution_count": 3,
   "metadata": {},
   "outputs": [],
   "source": [
    "def goldbachs_conjecture(input_number):    \n",
    "    \n",
    "    if(input_number == 0):\n",
    "        print('The number can not be 0')\n",
    "    elif(input_number == 1):\n",
    "        print('The number can not be 1')\n",
    "    else:\n",
    "        prime = generate_prime(input_number)\n",
    "        value_1, value_2 = 0, 0\n",
    "        for i in range (len(prime)):\n",
    "            rest_value = input_number - prime[i]\n",
    "            if rest_value in prime:\n",
    "                value_1 = prime[i]\n",
    "                value_2 = rest_value \n",
    "                print(input_number, \"=\", value_1, \"+\", value_2)\n",
    "                break\n",
    "        \n",
    "        if value_1 == 0:\n",
    "            print(\"Goldbach's Conjecture is Wrong\");"
   ]
  },
  {
   "cell_type": "code",
   "execution_count": 4,
   "metadata": {},
   "outputs": [
    {
     "name": "stdout",
     "output_type": "stream",
     "text": [
      "8 = 3 + 5\n",
      "20 = 3 + 17\n",
      "42 = 5 + 37\n"
     ]
    }
   ],
   "source": [
    "input_number_1 = 8\n",
    "input_number_2 = 20\n",
    "input_number_3 = 42\n",
    "goldbachs_conjecture(input_number_1)\n",
    "goldbachs_conjecture(input_number_2)\n",
    "goldbachs_conjecture(input_number_3)"
   ]
  }
 ],
 "metadata": {
  "kernelspec": {
   "display_name": "Python 3",
   "language": "python",
   "name": "python3"
  },
  "language_info": {
   "codemirror_mode": {
    "name": "ipython",
    "version": 3
   },
   "file_extension": ".py",
   "mimetype": "text/x-python",
   "name": "python",
   "nbconvert_exporter": "python",
   "pygments_lexer": "ipython3",
   "version": "3.7.3"
  }
 },
 "nbformat": 4,
 "nbformat_minor": 2
}
