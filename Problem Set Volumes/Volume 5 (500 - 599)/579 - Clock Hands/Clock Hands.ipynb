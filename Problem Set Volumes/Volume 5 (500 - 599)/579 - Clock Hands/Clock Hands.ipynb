{
 "cells": [
  {
   "cell_type": "code",
   "execution_count": 1,
   "metadata": {},
   "outputs": [],
   "source": [
    "# Title           : Clock Hands\n",
    "# Created By      : Daivalentineno Janitra Salim\n",
    "# Created In      : Taiwan\n",
    "# Created On      : 2nd October 2020 08:00 (GMT+8)\n",
    "# Last Updated By : -\n",
    "# Last Updated In : -\n",
    "# Last Updated On : -"
   ]
  },
  {
   "cell_type": "code",
   "execution_count": 2,
   "metadata": {},
   "outputs": [],
   "source": [
    "def clock_hands(input_hour):\n",
    "    \n",
    "    for i in range (len(input_hour)):\n",
    "        \n",
    "        array_hour = input_hour[i].split(\":\")\n",
    "        hour, minute = 0, 0\n",
    "        if array_hour[0] == \"1\" or array_hour[0] == \"2\" or array_hour[0] == \"3\" or array_hour[0] == \"4\" or array_hour[0] == \"5\" or array_hour[0] == \"6\" or array_hour[0] == \"7\" or array_hour[0] == \"8\" or array_hour[0] == \"9\" or array_hour[0] == \"10\" or array_hour[0] == \"11\":\n",
    "            hour = int(array_hour[0]) * 30 + int(array_hour[1]) * 0.5\n",
    "            minute = int(array_hour[1]) * 6\n",
    "        elif array_hour[0] == 12:\n",
    "            hour = int(array_hour[0]) * 0 + int(array_hour[1]) * 0.5\n",
    "            minute = int(array_hour[1]) * 6\n",
    "                   \n",
    "        different = abs(hour - minute)\n",
    "        \n",
    "        if different < 180:\n",
    "            print (format(different, '.3f'))\n",
    "        else:\n",
    "            print (format(360.000 - different, '.3f'))"
   ]
  },
  {
   "cell_type": "code",
   "execution_count": 3,
   "metadata": {},
   "outputs": [
    {
     "name": "stdout",
     "output_type": "stream",
     "text": [
      "0.000\n",
      "90.000\n",
      "175.000\n"
     ]
    }
   ],
   "source": [
    "input_hour = [\"12:00\", \"9:00\", \"8:10\"]\n",
    "clock_hands(input_hour)"
   ]
  }
 ],
 "metadata": {
  "kernelspec": {
   "display_name": "Python 3",
   "language": "python",
   "name": "python3"
  },
  "language_info": {
   "codemirror_mode": {
    "name": "ipython",
    "version": 3
   },
   "file_extension": ".py",
   "mimetype": "text/x-python",
   "name": "python",
   "nbconvert_exporter": "python",
   "pygments_lexer": "ipython3",
   "version": "3.7.3"
  }
 },
 "nbformat": 4,
 "nbformat_minor": 2
}
