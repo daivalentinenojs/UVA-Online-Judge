{
 "cells": [
  {
   "cell_type": "code",
   "execution_count": 1,
   "metadata": {},
   "outputs": [],
   "source": [
    "# Title           : Nesting A Bunch Of Brackets\n",
    "# Created By      : Daivalentineno Janitra Salim\n",
    "# Created In      : Taiwan\n",
    "# Created On      : 1st October 2020 17:00 (GMT+8)\n",
    "# Last Updated By : -\n",
    "# Last Updated In : -\n",
    "# Last Updated On : -"
   ]
  },
  {
   "cell_type": "code",
   "execution_count": 2,
   "metadata": {},
   "outputs": [],
   "source": [
    "def nesting_bracket(expression):\n",
    "    stack_bracket = []\n",
    "    \n",
    "    if len(expression) == 0:\n",
    "        print(\"Yes\")\n",
    "    else:\n",
    "        count_bracket = 0\n",
    "        for i in range (len(expression)):\n",
    "            if (expression[i] == '(' or expression[i] == '{' or expression[i] == '[' or expression[i] == '<' or\n",
    "               (expression[i-1] == '(' and expression[i] == '*')):\n",
    "                stack_bracket.append(expression[i])\n",
    "                \n",
    "                if expression[i] != \"*\":\n",
    "                    count_bracket += 1\n",
    "                    \n",
    "            elif (expression[i] == ')' or expression[i] == '}' or expression[i] == ']' or expression[i] == '>' or \n",
    "                   (expression[i] == '*' and expression[i+1] == ')' )):\n",
    "                \n",
    "                if len(stack_bracket) == 0 and expression[i] == '*':\n",
    "                    count_bracket += 1\n",
    "                    break                    \n",
    "                elif len(stack_bracket) == 0 and (expression[i] == ')' or expression[i] == '}' or expression[i]== ']' or \n",
    "                                                  expression[i] == '>' ):\n",
    "                    count_bracket += 1\n",
    "                    break\n",
    "                elif stack_bracket[len(stack_bracket) - 1] == '*' and expression[i] == '*':\n",
    "                    stack_bracket.pop();\n",
    "                    stack_bracket.pop();\n",
    "                    count_bracket += 1;\n",
    "                    i += 1;\n",
    "                elif( len(stack_bracket) != 0 and ( (stack_bracket[len(stack_bracket) - 1] == '(' and expression[i] == ')' ) or \n",
    "                                                    (stack_bracket[len(stack_bracket) - 1] == '{' and expression[i] == '}' ) or\n",
    "                                                    (stack_bracket[len(stack_bracket) - 1] == '[' and expression[i] == ']' ) or\n",
    "                                                    (stack_bracket[len(stack_bracket) - 1] == '<' and expression[i] == '>' ) ) ):\n",
    "                    stack_bracket.pop()\n",
    "                    count_bracket += 1\n",
    "                else:\n",
    "                    count_bracket += 1\n",
    "                    break\n",
    "            else:\n",
    "                count_bracket += 1\n",
    "        \n",
    "        if(len(stack_bracket) == 0 and len(expression) == i + 1):\n",
    "            print(\"YES\")\n",
    "        elif(len(stack_bracket) != 0 and len(expression) == i + 1):\n",
    "            print(\"NO\", count_bracket)\n",
    "        else:\n",
    "            print(\"NO\", count_bracket);"
   ]
  },
  {
   "cell_type": "code",
   "execution_count": 3,
   "metadata": {},
   "outputs": [
    {
     "name": "stdout",
     "output_type": "stream",
     "text": [
      "NO 6\n",
      "YES\n"
     ]
    }
   ],
   "source": [
    "expression_1 = \"(*a++(*)\"\n",
    "expression_2 = \"(*a{+}*)\"\n",
    "nesting_bracket(expression_1)\n",
    "nesting_bracket(expression_2)"
   ]
  }
 ],
 "metadata": {
  "kernelspec": {
   "display_name": "Python 3",
   "language": "python",
   "name": "python3"
  },
  "language_info": {
   "codemirror_mode": {
    "name": "ipython",
    "version": 3
   },
   "file_extension": ".py",
   "mimetype": "text/x-python",
   "name": "python",
   "nbconvert_exporter": "python",
   "pygments_lexer": "ipython3",
   "version": "3.7.3"
  }
 },
 "nbformat": 4,
 "nbformat_minor": 2
}
