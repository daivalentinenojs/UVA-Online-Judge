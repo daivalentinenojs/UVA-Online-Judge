{
 "cells": [
  {
   "cell_type": "code",
   "execution_count": 1,
   "metadata": {},
   "outputs": [],
   "source": [
    "# Title           : Bridge Hands\n",
    "# Created By      : Daivalentineno Janitra Salim\n",
    "# Created In      : Taiwan\n",
    "# Created On      : 1st October 2020 18:00 (GMT+8)\n",
    "# Last Updated By : -\n",
    "# Last Updated In : -\n",
    "# Last Updated On : -"
   ]
  },
  {
   "cell_type": "code",
   "execution_count": 2,
   "metadata": {},
   "outputs": [],
   "source": [
    "def sorting(array_direction, rank):\n",
    "    string_direction = \"\"\n",
    "    for i in range (len(rank)):\n",
    "        if rank[i] in array_direction:\n",
    "            string_direction += rank[i] + \" \"\n",
    "    return string_direction"
   ]
  },
  {
   "cell_type": "code",
   "execution_count": 3,
   "metadata": {},
   "outputs": [],
   "source": [
    "def bridge_hands(input_direction, cards):\n",
    "    rank = [\"C2\",\"C3\",\"C4\",\"C5\",\"C6\",\"C7\",\"C8\",\"C9\",\"CT\",\"CJ\",\"CQ\",\"CK\",\"CA\",\n",
    "           \"D2\",\"D3\",\"D4\",\"D5\",\"D6\",\"D7\",\"D8\",\"D9\",\"DT\",\"DJ\",\"DQ\",\"DK\",\"DA\",\n",
    "           \"S2\",\"S3\",\"S4\",\"S5\",\"S6\",\"S7\",\"S8\",\"S9\",\"ST\",\"SJ\",\"SQ\",\"SK\",\"SA\",\n",
    "           \"H2\",\"H3\",\"H4\",\"H5\",\"H6\",\"H7\",\"H8\",\"H9\",\"HT\",\"HJ\",\"HQ\",\"HK\",\"HA\"]\n",
    "    \n",
    "    card_turn = []\n",
    "    for i in range (len(cards)):\n",
    "        for j in range (0, len(cards[i]), 2):\n",
    "            card_turn.append(cards[i][j:j+2])\n",
    "    \n",
    "    turn = 0\n",
    "    array_east = []\n",
    "    array_south = []\n",
    "    array_west = []\n",
    "    array_north = []\n",
    "    \n",
    "    for i in range (len(card_turn)):\n",
    "        if turn == 0:\n",
    "            array_east.append(card_turn[i])\n",
    "            turn = 1\n",
    "        elif turn == 1:\n",
    "            array_south.append(card_turn[i])\n",
    "            turn = 2\n",
    "        elif turn == 2:\n",
    "            array_west.append(card_turn[i])\n",
    "            turn = 3\n",
    "        elif turn == 3:\n",
    "            array_north.append(card_turn[i])\n",
    "            turn = 0\n",
    "    \n",
    "    print(\"S :\", sorting(array_south, rank))\n",
    "    print(\"W :\", sorting(array_west, rank))\n",
    "    print(\"N :\", sorting(array_north, rank))\n",
    "    print(\"E :\", sorting(array_east, rank))"
   ]
  },
  {
   "cell_type": "code",
   "execution_count": 4,
   "metadata": {},
   "outputs": [
    {
     "name": "stdout",
     "output_type": "stream",
     "text": [
      "S : C3 C5 C7 CT CJ D9 DT DJ S3 SK H2 H9 HT \n",
      "W : C2 C4 CK D4 D5 D6 DQ DA S4 S8 ST SJ H8 \n",
      "N : C6 C8 C9 CA D8 S9 SA H4 H5 H6 H7 HJ HA \n",
      "E : CQ D2 D3 D7 DK S2 S5 S6 S7 SQ H3 HQ HK \n"
     ]
    }
   ],
   "source": [
    "input_direction = \"N\"\n",
    "cards = [\"CQDTC4D8S7HTDAH7D2S3D6C6S6D9S4SAD7H2CKH5D3CTS8C9H3C3\",\n",
    "        \"DQS9SQDJH8HAS2SKD4H4S5C7SJC8DKC5C2CAHQCJSTH6HKH9D5HJ\"]\n",
    "bridge_hands(input_direction, cards)"
   ]
  }
 ],
 "metadata": {
  "kernelspec": {
   "display_name": "Python 3",
   "language": "python",
   "name": "python3"
  },
  "language_info": {
   "codemirror_mode": {
    "name": "ipython",
    "version": 3
   },
   "file_extension": ".py",
   "mimetype": "text/x-python",
   "name": "python",
   "nbconvert_exporter": "python",
   "pygments_lexer": "ipython3",
   "version": "3.7.3"
  }
 },
 "nbformat": 4,
 "nbformat_minor": 2
}
