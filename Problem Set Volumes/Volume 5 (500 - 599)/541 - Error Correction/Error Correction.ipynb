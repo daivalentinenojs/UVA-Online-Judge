{
 "cells": [
  {
   "cell_type": "code",
   "execution_count": 1,
   "metadata": {},
   "outputs": [],
   "source": [
    "# Title           : Error Correction\n",
    "# Created By      : Daivalentineno Janitra Salim\n",
    "# Created In      : Taiwan\n",
    "# Created On      : 1st October 2020 15:00 (GMT+8)\n",
    "# Last Updated By : -\n",
    "# Last Updated In : -\n",
    "# Last Updated On : -"
   ]
  },
  {
   "cell_type": "code",
   "execution_count": 2,
   "metadata": {},
   "outputs": [],
   "source": [
    "def error_correction(matrix):\n",
    "    row = [0]*100\n",
    "    col = [0]*100\n",
    "    if len(matrix) == 0:\n",
    "        print(\"Matrix is empty\")\n",
    "    else:\n",
    "        rcount = 0\n",
    "        ccount = 0\n",
    "        rp = 0\n",
    "        cp = 0\n",
    "        \n",
    "        for i in range (1, len(matrix) + 1):\n",
    "            for j in range (1, len(matrix) + 1):\n",
    "                row[i] += int(matrix[i-1][j-1])\n",
    "                col[j] += int(matrix[i-1][j-1])\n",
    "            i += 1\n",
    "            \n",
    "        for i in range (1, len(matrix) + 1):\n",
    "            if row[i] % 2 == 1:\n",
    "                rp = i\n",
    "                rcount += 1\n",
    "            if col[i] % 2 == 1:\n",
    "                cp = i\n",
    "                ccount += 1\n",
    "            i += 1\n",
    "        \n",
    "        if(rp == 0 and cp == 0):\n",
    "            print(\"OK\")\n",
    "        elif(rcount == 1 and ccount == 1):\n",
    "            print(\"Change Bit (\", rp, \",\", cp, \")\")\n",
    "        else:\n",
    "            print(\"Corrupt\")"
   ]
  },
  {
   "cell_type": "code",
   "execution_count": 3,
   "metadata": {},
   "outputs": [
    {
     "name": "stdout",
     "output_type": "stream",
     "text": [
      "OK\n",
      "Change Bit ( 2 , 3 )\n",
      "Corrupt\n"
     ]
    }
   ],
   "source": [
    "matrix_1 = [\"1010\",\"0000\",\"1111\",\"0101\"]\n",
    "matrix_2 = [\"1010\",\"0010\",\"1111\",\"0101\"]\n",
    "matrix_3 = [\"1010\",\"0110\",\"1111\",\"0101\"]\n",
    "error_correction(matrix_1)\n",
    "error_correction(matrix_2)\n",
    "error_correction(matrix_3)"
   ]
  }
 ],
 "metadata": {
  "kernelspec": {
   "display_name": "Python 3",
   "language": "python",
   "name": "python3"
  },
  "language_info": {
   "codemirror_mode": {
    "name": "ipython",
    "version": 3
   },
   "file_extension": ".py",
   "mimetype": "text/x-python",
   "name": "python",
   "nbconvert_exporter": "python",
   "pygments_lexer": "ipython3",
   "version": "3.7.3"
  }
 },
 "nbformat": 4,
 "nbformat_minor": 2
}
