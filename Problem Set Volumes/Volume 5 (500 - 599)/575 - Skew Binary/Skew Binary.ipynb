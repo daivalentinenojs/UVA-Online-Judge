{
 "cells": [
  {
   "cell_type": "code",
   "execution_count": 1,
   "metadata": {},
   "outputs": [],
   "source": [
    "# Title           : Skew Binary\n",
    "# Created By      : Daivalentineno Janitra Salim\n",
    "# Created In      : Taiwan\n",
    "# Created On      : 1st October 2020 19:00 (GMT+8)\n",
    "# Last Updated By : -\n",
    "# Last Updated In : -\n",
    "# Last Updated On : -"
   ]
  },
  {
   "cell_type": "code",
   "execution_count": 2,
   "metadata": {},
   "outputs": [],
   "source": [
    "def skew_binary(input_value):\n",
    "    \n",
    "    for i in range (len(input_value)):\n",
    "        output_value = 0\n",
    "        string_value = str(input_value[i])\n",
    "\n",
    "        for j in range (len(string_value)):\n",
    "            output_value += int(string_value[j]) * (pow(2, (int(len(string_value)) - j)) - 1)\n",
    "        print(output_value)"
   ]
  },
  {
   "cell_type": "code",
   "execution_count": 3,
   "metadata": {},
   "outputs": [
    {
     "name": "stdout",
     "output_type": "stream",
     "text": [
      "44\n",
      "2147483646\n",
      "3\n",
      "2147483647\n",
      "4\n",
      "7\n",
      "1041110737\n"
     ]
    }
   ],
   "source": [
    "input_value = [10120, 200000000000000000000000000000, 10, 1000000000000000000000000000000, 11, 100, 11111000001110000101101102000]\n",
    "skew_binary(input_value)"
   ]
  }
 ],
 "metadata": {
  "kernelspec": {
   "display_name": "Python 3",
   "language": "python",
   "name": "python3"
  },
  "language_info": {
   "codemirror_mode": {
    "name": "ipython",
    "version": 3
   },
   "file_extension": ".py",
   "mimetype": "text/x-python",
   "name": "python",
   "nbconvert_exporter": "python",
   "pygments_lexer": "ipython3",
   "version": "3.7.3"
  }
 },
 "nbformat": 4,
 "nbformat_minor": 2
}
