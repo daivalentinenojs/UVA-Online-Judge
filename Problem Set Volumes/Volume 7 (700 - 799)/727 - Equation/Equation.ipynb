{
 "cells": [
  {
   "cell_type": "code",
   "execution_count": 1,
   "metadata": {},
   "outputs": [],
   "source": [
    "# Title           : Equation\n",
    "# Created By      : Daivalentineno Janitra Salim\n",
    "# Created In      : Taiwan\n",
    "# Created On      : 3rd October 2020 11:00 (GMT+8)\n",
    "# Last Updated By : -\n",
    "# Last Updated In : -\n",
    "# Last Updated On : -"
   ]
  },
  {
   "cell_type": "code",
   "execution_count": 2,
   "metadata": {},
   "outputs": [],
   "source": [
    "def equation(input_cases):\n",
    "    \n",
    "    for i in range (len(input_cases)):\n",
    "        \n",
    "        expstack = []        \n",
    "        case = input_cases[i].split(\" \")\n",
    "        string_output = \"\"\n",
    "        \n",
    "        for p in range(len(case)):\n",
    "            if case[p] == '(' or case[p] == '+' or case[p] == '-' or case[p] == '*' or case[p] == '/':\n",
    "                if( (case[p] == '+' or case[p] == '-') and (expstack[len(expstack)-1] == '*' or expstack[len(expstack)-1] == '/' or expstack[len(expstack)-1] == '+' or expstack[len(expstack)-1] == '-')):\n",
    "                    while(expstack[len(expstack)-1] == '*' or expstack[len(expstack)-1] == '/' or expstack[len(expstack)-1] == '+' or expstack[len(expstack)-1] == '-'):\n",
    "                        string_output += expstack[len(expstack)-1]\n",
    "                        expstack.pop()\n",
    "                    expstack.append(case[p])\n",
    "                elif (case[p] == '*' or case[p] == '/'):\n",
    "                    if len(expstack) != 0:\n",
    "                        if (expstack[len(expstack)-1] == '*' or expstack[len(expstack)-1] == '/'):\n",
    "                            string_output += expstack[len(expstack)-1]\n",
    "                            expstack.pop();\n",
    "                            expstack.append(case[p])\n",
    "                    else:\n",
    "                         expstack.append(case[p])\n",
    "                else:\n",
    "                    expstack.append(case[p])\n",
    "            elif case[p] == ')':\n",
    "                while expstack[len(expstack)-1] != '(':\n",
    "                    string_output += expstack[len(expstack)-1]\n",
    "                    expstack.pop()\n",
    "                expstack.pop()\n",
    "            else:\n",
    "                string_output += case[p]\n",
    "\n",
    "        while len(expstack) != 0:\n",
    "            string_output += expstack[len(expstack)-1]\n",
    "            expstack.pop()\n",
    "        \n",
    "        print(string_output)"
   ]
  },
  {
   "cell_type": "code",
   "execution_count": 3,
   "metadata": {},
   "outputs": [
    {
     "name": "stdout",
     "output_type": "stream",
     "text": [
      "32+5*\n"
     ]
    }
   ],
   "source": [
    "input_cases = [\"( 3 + 2 ) * 5\"]\n",
    "equation(input_cases)"
   ]
  }
 ],
 "metadata": {
  "kernelspec": {
   "display_name": "Python 3",
   "language": "python",
   "name": "python3"
  },
  "language_info": {
   "codemirror_mode": {
    "name": "ipython",
    "version": 3
   },
   "file_extension": ".py",
   "mimetype": "text/x-python",
   "name": "python",
   "nbconvert_exporter": "python",
   "pygments_lexer": "ipython3",
   "version": "3.7.3"
  }
 },
 "nbformat": 4,
 "nbformat_minor": 2
}
