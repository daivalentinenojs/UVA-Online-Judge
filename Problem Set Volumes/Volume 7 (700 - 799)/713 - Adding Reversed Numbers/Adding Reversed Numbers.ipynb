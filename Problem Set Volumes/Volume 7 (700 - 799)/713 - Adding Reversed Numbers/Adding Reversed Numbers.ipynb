{
 "cells": [
  {
   "cell_type": "code",
   "execution_count": 1,
   "metadata": {},
   "outputs": [],
   "source": [
    "# Title           : Adding Reversed Numbers\n",
    "# Created By      : Daivalentineno Janitra Salim\n",
    "# Created In      : Taiwan\n",
    "# Created On      : 3rd October 2020 10:00 (GMT+8)\n",
    "# Last Updated By : -\n",
    "# Last Updated In : -\n",
    "# Last Updated On : -"
   ]
  },
  {
   "cell_type": "code",
   "execution_count": 2,
   "metadata": {},
   "outputs": [],
   "source": [
    "def adding_reversed_numbers(input_cases):\n",
    "    \n",
    "    for i in range (len(input_cases)):\n",
    "        \n",
    "        value_1, value_2 = input_cases[i].split(\" \")\n",
    "\n",
    "        new_value_1 = \"\"\n",
    "        new_value_2 = \"\"\n",
    "        new_value_3 = \"\"\n",
    "        \n",
    "        for j in range(len(value_1)):\n",
    "            new_value_1 += value_1[len(value_1)-1-j]\n",
    "        for j in range(len(value_2)):\n",
    "            new_value_2 += value_2[len(value_2)-1-j]\n",
    "            \n",
    "        new_value_1 = int(new_value_1)\n",
    "        new_value_2 = int(new_value_2)\n",
    "        value_3 = new_value_1 + new_value_2\n",
    "        value_3 = str(value_3)\n",
    "        \n",
    "        for j in range(len(value_3)):\n",
    "            new_value_3 += value_3[len(value_3)-1-j]\n",
    "        \n",
    "        new_value_3 = int(new_value_3)\n",
    "        print(new_value_3)"
   ]
  },
  {
   "cell_type": "code",
   "execution_count": 3,
   "metadata": {},
   "outputs": [
    {
     "name": "stdout",
     "output_type": "stream",
     "text": [
      "34\n",
      "1998\n",
      "1\n"
     ]
    }
   ],
   "source": [
    "input_cases = [\"24 1\", \"4358 754\", \"305 794\"]\n",
    "adding_reversed_numbers(input_cases)"
   ]
  }
 ],
 "metadata": {
  "kernelspec": {
   "display_name": "Python 3",
   "language": "python",
   "name": "python3"
  },
  "language_info": {
   "codemirror_mode": {
    "name": "ipython",
    "version": 3
   },
   "file_extension": ".py",
   "mimetype": "text/x-python",
   "name": "python",
   "nbconvert_exporter": "python",
   "pygments_lexer": "ipython3",
   "version": "3.7.3"
  }
 },
 "nbformat": 4,
 "nbformat_minor": 2
}
