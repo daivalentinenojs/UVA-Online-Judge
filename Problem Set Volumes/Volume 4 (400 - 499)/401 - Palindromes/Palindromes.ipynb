{
 "cells": [
  {
   "cell_type": "code",
   "execution_count": 1,
   "metadata": {},
   "outputs": [],
   "source": [
    "# Title           : Palindromes\n",
    "# Created By      : Daivalentineno Janitra Salim\n",
    "# Created In      : Taiwan\n",
    "# Created On      : 29th September 2020 12:00 (GMT+8)\n",
    "# Last Updated By : -\n",
    "# Last Updated In : -\n",
    "# Last Updated On : -"
   ]
  },
  {
   "cell_type": "code",
   "execution_count": 2,
   "metadata": {},
   "outputs": [],
   "source": [
    "def palindromes(input_string):\n",
    "\n",
    "    rp = 0\n",
    "    mp = 0\n",
    "    length = len(input_string)\n",
    "    i = length - 1\n",
    "    rev_input = []\n",
    "    new_rev = []\n",
    "    \n",
    "    while i >= 0:\n",
    "        rev_input.append(input_string[i])\n",
    "        \n",
    "        if(input_string[i] == 'E'):\n",
    "            new_rev.append('3')\n",
    "        elif(input_string[i] == '3'):\n",
    "            new_rev.append('E')\n",
    "        elif(input_string[i] == 'L'):\n",
    "            new_rev.append('J')\n",
    "        elif(input_string[i] == 'J'):\n",
    "            new_rev.append('L')\n",
    "        elif(input_string[i] == 'S'):\n",
    "            new_rev.append('2')\n",
    "        elif(input_string[i] == '2'):\n",
    "            new_rev.append('S')\n",
    "        elif(input_string[i] == 'Z'):\n",
    "            new_rev.append('5')\n",
    "        elif(input_string[i] == '5'):\n",
    "            new_rev.append('Z')\n",
    "        else:\n",
    "            new_rev.append(input_string[i]);\n",
    "        i -= 1\n",
    "    \n",
    "    i = 0\n",
    "    while i < length:\n",
    "        if(input_string[i] == rev_input[i]):\n",
    "            rp = 1\n",
    "        elif((input_string[i] == '0' and rev_input[i] == 'O') or (input_string[i] == 'O' and rev_input[i] == '0')):\n",
    "            rp = 1\n",
    "        else:\n",
    "            rp = 0  \n",
    "            break\n",
    "        i += 1\n",
    "    \n",
    "    i = 0\n",
    "    while i < length:\n",
    "        if(input_string[i] == new_rev[i]):\n",
    "            if(input_string[i]=='0' or input_string[i]=='B' or input_string[i]=='C' or input_string[i]=='D' or\n",
    "               input_string[i]=='F' or input_string[i]=='G' or input_string[i]=='K' or input_string[i]=='N' or\n",
    "               input_string[i]=='P' or input_string[i]=='Q' or input_string[i]=='R' or input_string[i]=='4' or\n",
    "               input_string[i]=='6' or input_string[i]=='7' or input_string[i]=='9'):\n",
    "                mp = 0\n",
    "                break\n",
    "            mp = 1\n",
    "        elif((input_string[i] == '0' and new_rev[i] == 'O') or (input_string[i] == 'O' and new_rev[i] == '0')):\n",
    "            mp = 1\n",
    "        else:\n",
    "            mp = 0\n",
    "            break\n",
    "        i += 1\n",
    "    \n",
    "    if(rp == 0 and mp == 0):\n",
    "        print(input_string, \"-- is not a palindrome\")\n",
    "    elif(rp == 1 and mp == 0):\n",
    "        print(input_string, \"-- is a regular palindrome\")\n",
    "    elif(rp == 0 and mp == 1):\n",
    "        print(input_string, \"-- is a mirrored string\")\n",
    "    elif(rp == 1 and mp == 1):\n",
    "        print(input_string, \"-- is a mirrored palindrome\") "
   ]
  },
  {
   "cell_type": "code",
   "execution_count": 3,
   "metadata": {},
   "outputs": [
    {
     "name": "stdout",
     "output_type": "stream",
     "text": [
      "NOTAPALINDROME -- is not a palindrome\n",
      "ISAPALINILAPASI -- is a regular palindrome\n",
      "2A3MEAS -- is a mirrored string\n",
      "ATOYOTA -- is a mirrored palindrome\n"
     ]
    }
   ],
   "source": [
    "palindromes(\"NOTAPALINDROME\")\n",
    "palindromes(\"ISAPALINILAPASI\")\n",
    "palindromes(\"2A3MEAS\")\n",
    "palindromes(\"ATOYOTA\")"
   ]
  }
 ],
 "metadata": {
  "kernelspec": {
   "display_name": "Python 3",
   "language": "python",
   "name": "python3"
  },
  "language_info": {
   "codemirror_mode": {
    "name": "ipython",
    "version": 3
   },
   "file_extension": ".py",
   "mimetype": "text/x-python",
   "name": "python",
   "nbconvert_exporter": "python",
   "pygments_lexer": "ipython3",
   "version": "3.7.3"
  }
 },
 "nbformat": 4,
 "nbformat_minor": 2
}
