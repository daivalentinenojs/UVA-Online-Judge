{
 "cells": [
  {
   "cell_type": "code",
   "execution_count": 1,
   "metadata": {},
   "outputs": [],
   "source": [
    "# Title           : Word Scramble\n",
    "# Created By      : Daivalentineno Janitra Salim\n",
    "# Created In      : Taiwan\n",
    "# Created On      : 30th September 2020 15:00 (GMT+8)\n",
    "# Last Updated By : -\n",
    "# Last Updated In : -\n",
    "# Last Updated On : -"
   ]
  },
  {
   "cell_type": "code",
   "execution_count": 2,
   "metadata": {},
   "outputs": [],
   "source": [
    "def word_scramble(input_string):\n",
    "    array_string = input_string.split(\" \")\n",
    "    output_string = \"\"   \n",
    "    for i in range (len(array_string)):\n",
    "        current_string = array_string[i]\n",
    "        for j in range (len(current_string)):\n",
    "            output_string += current_string[len(current_string)-j-1]\n",
    "        output_string += \" \"\n",
    "    print(output_string)"
   ]
  },
  {
   "cell_type": "code",
   "execution_count": 3,
   "metadata": {},
   "outputs": [
    {
     "name": "stdout",
     "output_type": "stream",
     "text": [
      "I evol .uoy \n",
      "uoY evol .em \n",
      "er'eW a yppah .ylimaf \n"
     ]
    }
   ],
   "source": [
    "input_string_1 = \"I love you.\"\n",
    "input_string_2 = \"You love me.\"\n",
    "input_string_3 = \"We're a happy family.\"\n",
    "word_scramble(input_string_1)\n",
    "word_scramble(input_string_2)\n",
    "word_scramble(input_string_3)"
   ]
  }
 ],
 "metadata": {
  "kernelspec": {
   "display_name": "Python 3",
   "language": "python",
   "name": "python3"
  },
  "language_info": {
   "codemirror_mode": {
    "name": "ipython",
    "version": 3
   },
   "file_extension": ".py",
   "mimetype": "text/x-python",
   "name": "python",
   "nbconvert_exporter": "python",
   "pygments_lexer": "ipython3",
   "version": "3.7.3"
  }
 },
 "nbformat": 4,
 "nbformat_minor": 2
}
