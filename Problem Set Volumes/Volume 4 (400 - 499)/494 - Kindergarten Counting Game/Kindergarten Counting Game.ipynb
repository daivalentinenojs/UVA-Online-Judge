{
 "cells": [
  {
   "cell_type": "code",
   "execution_count": 1,
   "metadata": {},
   "outputs": [],
   "source": [
    "# Title           : Kindergarten Counting Game\n",
    "# Created By      : Daivalentineno Janitra Salim\n",
    "# Created In      : Taiwan\n",
    "# Created On      : 30th September 2020 20:00 (GMT+8)\n",
    "# Last Updated By : -\n",
    "# Last Updated In : -\n",
    "# Last Updated On : -"
   ]
  },
  {
   "cell_type": "code",
   "execution_count": 2,
   "metadata": {},
   "outputs": [],
   "source": [
    "def kindergarten_counting_game(input_string):\n",
    "    array_string = input_string.split(\" \")\n",
    "    count = 0\n",
    "    for i in range (len(array_string)):\n",
    "        if (array_string[i] >= 'a' and array_string[i] <= 'z') or (array_string[i] >= 'A' and array_string[i] <= 'Z'):\n",
    "            count += 1\n",
    "            i += 1\n",
    "    print (count)"
   ]
  },
  {
   "cell_type": "code",
   "execution_count": 3,
   "metadata": {},
   "outputs": [
    {
     "name": "stdout",
     "output_type": "stream",
     "text": [
      "2\n",
      "7\n",
      "10\n",
      "9\n"
     ]
    }
   ],
   "source": [
    "input_string_1 = \"Meep Meep!\"\n",
    "input_string_2 = \"I tot I taw a putty tat.\"\n",
    "input_string_3 = \"I did! I did! I did taw a putty tat.\"\n",
    "input_string_4 = \"Shsssssssssh ... I am hunting wabbits. Heh Heh Heh Heh ...\"\n",
    "kindergarten_counting_game(input_string_1)\n",
    "kindergarten_counting_game(input_string_2)\n",
    "kindergarten_counting_game(input_string_3)\n",
    "kindergarten_counting_game(input_string_4)"
   ]
  }
 ],
 "metadata": {
  "kernelspec": {
   "display_name": "Python 3",
   "language": "python",
   "name": "python3"
  },
  "language_info": {
   "codemirror_mode": {
    "name": "ipython",
    "version": 3
   },
   "file_extension": ".py",
   "mimetype": "text/x-python",
   "name": "python",
   "nbconvert_exporter": "python",
   "pygments_lexer": "ipython3",
   "version": "3.7.3"
  }
 },
 "nbformat": 4,
 "nbformat_minor": 2
}
