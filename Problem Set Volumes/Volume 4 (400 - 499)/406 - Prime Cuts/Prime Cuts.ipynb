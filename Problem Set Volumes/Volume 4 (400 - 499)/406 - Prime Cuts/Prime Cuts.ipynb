{
 "cells": [
  {
   "cell_type": "code",
   "execution_count": 1,
   "metadata": {},
   "outputs": [],
   "source": [
    "# Title           : Prime Cuts\n",
    "# Created By      : Daivalentineno Janitra Salim\n",
    "# Created In      : Taiwan\n",
    "# Created On      : 29th September 2020 12:30 (GMT+8)\n",
    "# Last Updated By : -\n",
    "# Last Updated In : -\n",
    "# Last Updated On : -"
   ]
  },
  {
   "cell_type": "code",
   "execution_count": 2,
   "metadata": {},
   "outputs": [],
   "source": [
    "def prime_cuts(maximum_number, center_prime):\n",
    "    \n",
    "    n = maximum_number\n",
    "    c = center_prime\n",
    "    i, j, pt = 1, 1, 1\n",
    "    p = []\n",
    "    \n",
    "    for i in range (2, 1001):\n",
    "        flag = 0\n",
    "        j = 2\n",
    "        while j * j <= i:\n",
    "            if i % j == 0:\n",
    "                flag = 1\n",
    "                break    \n",
    "            j += 1\n",
    "            \n",
    "        if(not flag):\n",
    "            p.append(i)\n",
    "            pt += 1           \n",
    "            \n",
    "        i += 1\n",
    "      \n",
    "    lt = 0\n",
    "    list_prime = []\n",
    "    for i in range (pt):\n",
    "        if(p[i] <= n):\n",
    "            list_prime.append(p[i])\n",
    "            lt += 1\n",
    "        else:\n",
    "            break                \n",
    "        i += 1\n",
    "    \n",
    "    if lt & 1: \n",
    "        c = c * 2 - 1\n",
    "    else:\n",
    "        c = c * 2\n",
    "        \n",
    "    if c > lt:\n",
    "        c = lt\n",
    "    \n",
    "    i = int(lt / 2 - c / 2)\n",
    "    j = 0\n",
    "\n",
    "    result = str(maximum_number) + \" \" + str(center_prime) + \"\\t: \"\n",
    "    for j in range (c+1):\n",
    "        if i - 1 < 0:\n",
    "            result += \"1 \"\n",
    "        else:\n",
    "            result += str(list_prime[i-1]) + \" \"\n",
    "        i += 1\n",
    "        j += 1\n",
    "    print(result)"
   ]
  },
  {
   "cell_type": "code",
   "execution_count": 3,
   "metadata": {},
   "outputs": [
    {
     "name": "stdout",
     "output_type": "stream",
     "text": [
      "21 2\t: 3 5 7 11 13 \n",
      "18 2\t: 3 5 7 11 \n",
      "18 18\t: 1 2 3 5 7 11 13 17 \n",
      "100 7\t: 13 17 19 23 29 31 37 41 43 47 53 59 61 67 \n"
     ]
    }
   ],
   "source": [
    "prime_cuts(21, 2)\n",
    "prime_cuts(18, 2)\n",
    "prime_cuts(18, 18)\n",
    "prime_cuts(100, 7)"
   ]
  }
 ],
 "metadata": {
  "kernelspec": {
   "display_name": "Python 3",
   "language": "python",
   "name": "python3"
  },
  "language_info": {
   "codemirror_mode": {
    "name": "ipython",
    "version": 3
   },
   "file_extension": ".py",
   "mimetype": "text/x-python",
   "name": "python",
   "nbconvert_exporter": "python",
   "pygments_lexer": "ipython3",
   "version": "3.7.3"
  }
 },
 "nbformat": 4,
 "nbformat_minor": 2
}
