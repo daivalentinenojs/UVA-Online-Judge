{
 "cells": [
  {
   "cell_type": "code",
   "execution_count": 1,
   "metadata": {},
   "outputs": [],
   "source": [
    "# Title           : Marvelous Mazes\n",
    "# Created By      : Daivalentineno Janitra Salim\n",
    "# Created In      : Taiwan\n",
    "# Created On      : 30th September 2020 08:30 (GMT+8)\n",
    "# Last Updated By : -\n",
    "# Last Updated In : -\n",
    "# Last Updated On : -"
   ]
  },
  {
   "cell_type": "code",
   "execution_count": 2,
   "metadata": {},
   "outputs": [],
   "source": [
    "def marvelous_mazes(input_pattern):\n",
    "    length = len(input_pattern)\n",
    "    if length == 0:\n",
    "        print()\n",
    "    else:\n",
    "        value = 0\n",
    "        i = 0\n",
    "        output_pattern = \"\"\n",
    "\n",
    "        while i < len(input_pattern):\n",
    "            if input_pattern[i].isnumeric():\n",
    "                value += int(input_pattern[i])\n",
    "            elif input_pattern[i] == 'b':\n",
    "                for j in range(value):\n",
    "                    output_pattern += \" \"\n",
    "                value = 0\n",
    "            elif (input_pattern[i] == '!') or (input_pattern[i] == 'n'):\n",
    "                print(output_pattern)\n",
    "                output_pattern = \"\"\n",
    "            else:\n",
    "                for j in range(value):\n",
    "                    output_pattern += input_pattern[i]\n",
    "                value = 0\n",
    "            \n",
    "            i += 1\n",
    "            if i == len(input_pattern):\n",
    "                print(output_pattern)\n",
    "                print()"
   ]
  },
  {
   "cell_type": "code",
   "execution_count": 3,
   "metadata": {},
   "outputs": [
    {
     "name": "stdout",
     "output_type": "stream",
     "text": [
      "T TTTTT\n",
      "T  T TT\n",
      "T T  TT\n",
      "T   T T\n",
      "TTT   T\n",
      "T   T T\n",
      "TTTTT*T\n",
      "\n",
      "XX   X\n",
      "XXXX X\n",
      "\n"
     ]
    }
   ],
   "source": [
    "input_pattern_1 = \"1T1b5T!1T2b1T1b2T!1T1b1T2b2T!1T3b1T1b1T!3T3b1T!1T3b1T1b1T!5T1*1T\"\n",
    "input_pattern_2 = \"11X21b1Xn4X1b1X\"\n",
    "marvelous_mazes(input_pattern_1)\n",
    "marvelous_mazes(input_pattern_2)"
   ]
  }
 ],
 "metadata": {
  "kernelspec": {
   "display_name": "Python 3",
   "language": "python",
   "name": "python3"
  },
  "language_info": {
   "codemirror_mode": {
    "name": "ipython",
    "version": 3
   },
   "file_extension": ".py",
   "mimetype": "text/x-python",
   "name": "python",
   "nbconvert_exporter": "python",
   "pygments_lexer": "ipython3",
   "version": "3.7.3"
  }
 },
 "nbformat": 4,
 "nbformat_minor": 2
}
